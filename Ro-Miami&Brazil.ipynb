{
 "cells": [
  {
   "cell_type": "code",
   "execution_count": 1,
   "id": "fc689e16",
   "metadata": {},
   "outputs": [],
   "source": [
    "import pandas as pd\n",
    "import numpy as np\n",
    "import matplotlib.pyplot as plt\n",
    "import pandas as pd\n",
    "from scipy.fft import fft, fftfreq\n",
    "from scipy.optimize import curve_fit"
   ]
  },
  {
   "cell_type": "code",
   "execution_count": 2,
   "id": "333cbcd9",
   "metadata": {},
   "outputs": [
    {
     "data": {
      "text/html": [
       "<div>\n",
       "<style scoped>\n",
       "    .dataframe tbody tr th:only-of-type {\n",
       "        vertical-align: middle;\n",
       "    }\n",
       "\n",
       "    .dataframe tbody tr th {\n",
       "        vertical-align: top;\n",
       "    }\n",
       "\n",
       "    .dataframe thead th {\n",
       "        text-align: right;\n",
       "    }\n",
       "</style>\n",
       "<table border=\"1\" class=\"dataframe\">\n",
       "  <thead>\n",
       "    <tr style=\"text-align: right;\">\n",
       "      <th></th>\n",
       "      <th>0</th>\n",
       "      <th>1</th>\n",
       "      <th>2</th>\n",
       "      <th>3</th>\n",
       "      <th>4</th>\n",
       "      <th>5</th>\n",
       "      <th>6</th>\n",
       "      <th>7</th>\n",
       "      <th>8</th>\n",
       "      <th>9</th>\n",
       "    </tr>\n",
       "  </thead>\n",
       "  <tbody>\n",
       "    <tr>\n",
       "      <th>0</th>\n",
       "      <td>YEAR</td>\n",
       "      <td>MO</td>\n",
       "      <td>DY</td>\n",
       "      <td>T2M</td>\n",
       "      <td>T2MDEW</td>\n",
       "      <td>T2MWET</td>\n",
       "      <td>TS</td>\n",
       "      <td>T2M_RANGE</td>\n",
       "      <td>T2M_MAX</td>\n",
       "      <td>T2M_MIN</td>\n",
       "    </tr>\n",
       "    <tr>\n",
       "      <th>1</th>\n",
       "      <td>2018</td>\n",
       "      <td>1</td>\n",
       "      <td>1</td>\n",
       "      <td>22.24</td>\n",
       "      <td>16.36</td>\n",
       "      <td>19.3</td>\n",
       "      <td>23.82</td>\n",
       "      <td>3.8</td>\n",
       "      <td>24.12</td>\n",
       "      <td>20.31</td>\n",
       "    </tr>\n",
       "    <tr>\n",
       "      <th>2</th>\n",
       "      <td>2018</td>\n",
       "      <td>1</td>\n",
       "      <td>2</td>\n",
       "      <td>20.8</td>\n",
       "      <td>18.09</td>\n",
       "      <td>19.45</td>\n",
       "      <td>23.46</td>\n",
       "      <td>1.16</td>\n",
       "      <td>21.27</td>\n",
       "      <td>20.12</td>\n",
       "    </tr>\n",
       "    <tr>\n",
       "      <th>3</th>\n",
       "      <td>2018</td>\n",
       "      <td>1</td>\n",
       "      <td>3</td>\n",
       "      <td>18.75</td>\n",
       "      <td>16.06</td>\n",
       "      <td>17.4</td>\n",
       "      <td>22.86</td>\n",
       "      <td>8.32</td>\n",
       "      <td>22.01</td>\n",
       "      <td>13.69</td>\n",
       "    </tr>\n",
       "    <tr>\n",
       "      <th>4</th>\n",
       "      <td>2018</td>\n",
       "      <td>1</td>\n",
       "      <td>4</td>\n",
       "      <td>12.93</td>\n",
       "      <td>7.9</td>\n",
       "      <td>10.42</td>\n",
       "      <td>20.89</td>\n",
       "      <td>5.65</td>\n",
       "      <td>15.35</td>\n",
       "      <td>9.71</td>\n",
       "    </tr>\n",
       "    <tr>\n",
       "      <th>...</th>\n",
       "      <td>...</td>\n",
       "      <td>...</td>\n",
       "      <td>...</td>\n",
       "      <td>...</td>\n",
       "      <td>...</td>\n",
       "      <td>...</td>\n",
       "      <td>...</td>\n",
       "      <td>...</td>\n",
       "      <td>...</td>\n",
       "      <td>...</td>\n",
       "    </tr>\n",
       "    <tr>\n",
       "      <th>2003</th>\n",
       "      <td>2023</td>\n",
       "      <td>6</td>\n",
       "      <td>26</td>\n",
       "      <td>28.76</td>\n",
       "      <td>24.63</td>\n",
       "      <td>26.69</td>\n",
       "      <td>29.63</td>\n",
       "      <td>2.47</td>\n",
       "      <td>29.87</td>\n",
       "      <td>27.4</td>\n",
       "    </tr>\n",
       "    <tr>\n",
       "      <th>2004</th>\n",
       "      <td>2023</td>\n",
       "      <td>6</td>\n",
       "      <td>27</td>\n",
       "      <td>29.46</td>\n",
       "      <td>25.13</td>\n",
       "      <td>27.3</td>\n",
       "      <td>30.32</td>\n",
       "      <td>2.72</td>\n",
       "      <td>30.84</td>\n",
       "      <td>28.12</td>\n",
       "    </tr>\n",
       "    <tr>\n",
       "      <th>2005</th>\n",
       "      <td>2023</td>\n",
       "      <td>6</td>\n",
       "      <td>28</td>\n",
       "      <td>29.9</td>\n",
       "      <td>25.57</td>\n",
       "      <td>27.73</td>\n",
       "      <td>30.59</td>\n",
       "      <td>2.96</td>\n",
       "      <td>31.75</td>\n",
       "      <td>28.8</td>\n",
       "    </tr>\n",
       "    <tr>\n",
       "      <th>2006</th>\n",
       "      <td>2023</td>\n",
       "      <td>6</td>\n",
       "      <td>29</td>\n",
       "      <td>29.55</td>\n",
       "      <td>25.66</td>\n",
       "      <td>27.61</td>\n",
       "      <td>30.58</td>\n",
       "      <td>2.46</td>\n",
       "      <td>30.87</td>\n",
       "      <td>28.4</td>\n",
       "    </tr>\n",
       "    <tr>\n",
       "      <th>2007</th>\n",
       "      <td>2023</td>\n",
       "      <td>6</td>\n",
       "      <td>30</td>\n",
       "      <td>29.49</td>\n",
       "      <td>24.56</td>\n",
       "      <td>27.02</td>\n",
       "      <td>30.99</td>\n",
       "      <td>2.79</td>\n",
       "      <td>31.14</td>\n",
       "      <td>28.35</td>\n",
       "    </tr>\n",
       "  </tbody>\n",
       "</table>\n",
       "<p>2008 rows × 10 columns</p>\n",
       "</div>"
      ],
      "text/plain": [
       "         0   1   2      3       4       5      6          7        8        9\n",
       "0     YEAR  MO  DY    T2M  T2MDEW  T2MWET     TS  T2M_RANGE  T2M_MAX  T2M_MIN\n",
       "1     2018   1   1  22.24   16.36    19.3  23.82        3.8    24.12    20.31\n",
       "2     2018   1   2   20.8   18.09   19.45  23.46       1.16    21.27    20.12\n",
       "3     2018   1   3  18.75   16.06    17.4  22.86       8.32    22.01    13.69\n",
       "4     2018   1   4  12.93     7.9   10.42  20.89       5.65    15.35     9.71\n",
       "...    ...  ..  ..    ...     ...     ...    ...        ...      ...      ...\n",
       "2003  2023   6  26  28.76   24.63   26.69  29.63       2.47    29.87     27.4\n",
       "2004  2023   6  27  29.46   25.13    27.3  30.32       2.72    30.84    28.12\n",
       "2005  2023   6  28   29.9   25.57   27.73  30.59       2.96    31.75     28.8\n",
       "2006  2023   6  29  29.55   25.66   27.61  30.58       2.46    30.87     28.4\n",
       "2007  2023   6  30  29.49   24.56   27.02  30.99       2.79    31.14    28.35\n",
       "\n",
       "[2008 rows x 10 columns]"
      ]
     },
     "execution_count": 2,
     "metadata": {},
     "output_type": "execute_result"
    }
   ],
   "source": [
    "#importing temperatures\n",
    "\n",
    "#df1=pd.read_csv('/Users/antoniogondim/Downloads/temperatures/Fortaleza.csv', header=None)\n",
    "#df1=df1.iloc[3]\n",
    "#df2=pd.read_csv('/Users/antoniogondim/Downloads/temperatures/Salvador.csv', header=None)\n",
    "#df2=df2.iloc[3]\n",
    "df3=pd.read_csv('/Users/antoniogondim/Downloads/Projeto-Leo&Rebeca/temperatures/Belem.csv', header=None)\n",
    "#df3=df3.iloc[3]\n",
    "df4=pd.read_csv('/Users/antoniogondim/Downloads/Projeto-Leo&Rebeca/temperatures/Recife.csv', header=None)\n",
    "#df4=df4.iloc[3]\n",
    "df5=pd.read_csv('/Users/antoniogondim/Downloads/Projeto-Leo&Rebeca/temperatures/Manaus.csv', header=None)\n",
    "#df5=df5.iloc[3]\n",
    "df6=pd.read_csv('/Users/antoniogondim/Downloads/Projeto-Leo&Rebeca/temperatures/Brasilia.csv', header=None)\n",
    "#df6=df6.iloc[3]\n",
    "df7=pd.read_csv('/Users/antoniogondim/Downloads/Projeto-Leo&Rebeca/temperatures/SP.csv', header=None)\n",
    "#df7=df7.iloc[3]\n",
    "df8=pd.read_csv('/Users/antoniogondim/Downloads/Projeto-Leo&Rebeca/temperatures/RJ.csv', header=None)\n",
    "#df8=df8.iloc[3]\n",
    "df9=pd.read_csv('/Users/antoniogondim/Downloads/Projeto-Leo&Rebeca/temperatures/Miami.csv', header=None)\n",
    "#df9=df9.iloc[3]\n",
    "df9"
   ]
  },
  {
   "cell_type": "code",
   "execution_count": 3,
   "id": "d681b0af",
   "metadata": {},
   "outputs": [],
   "source": [
    "df9[3]=pd.to_numeric(df9[3],errors='coerce')"
   ]
  },
  {
   "cell_type": "code",
   "execution_count": 4,
   "id": "bcf3f4c3",
   "metadata": {},
   "outputs": [],
   "source": [
    "df9[3]=df9[3].dropna(axis=0)"
   ]
  },
  {
   "cell_type": "code",
   "execution_count": 5,
   "id": "04774971",
   "metadata": {},
   "outputs": [],
   "source": [
    "df9[3]=df9[3].reset_index().drop(columns=['index'])"
   ]
  },
  {
   "cell_type": "code",
   "execution_count": 6,
   "id": "c88efe1a",
   "metadata": {},
   "outputs": [],
   "source": [
    "df9[3]=df9[3].dropna(axis=0)"
   ]
  },
  {
   "cell_type": "code",
   "execution_count": 7,
   "id": "d14274b4",
   "metadata": {},
   "outputs": [],
   "source": [
    "temp_miami=df9[3]"
   ]
  },
  {
   "cell_type": "code",
   "execution_count": 8,
   "id": "2d1d5f1e",
   "metadata": {},
   "outputs": [
    {
     "data": {
      "text/plain": [
       "2008"
      ]
     },
     "execution_count": 8,
     "metadata": {},
     "output_type": "execute_result"
    }
   ],
   "source": [
    "len(temp_miami)"
   ]
  },
  {
   "cell_type": "code",
   "execution_count": 9,
   "id": "f232504e",
   "metadata": {},
   "outputs": [
    {
     "data": {
      "text/plain": [
       "0         NaN\n",
       "1       22.24\n",
       "2       20.80\n",
       "3       18.75\n",
       "4       12.93\n",
       "        ...  \n",
       "2003    28.76\n",
       "2004    29.46\n",
       "2005    29.90\n",
       "2006    29.55\n",
       "2007    29.49\n",
       "Name: 3, Length: 2008, dtype: float64"
      ]
     },
     "execution_count": 9,
     "metadata": {},
     "output_type": "execute_result"
    }
   ],
   "source": [
    "temp_miami"
   ]
  },
  {
   "cell_type": "code",
   "execution_count": 10,
   "id": "86ca71a3",
   "metadata": {},
   "outputs": [],
   "source": [
    "data=[df3[3],df4[3],df5[3],df6[3],df7[3],df8[3]]\n",
    "\n",
    "df=pd.concat(data,axis=1)"
   ]
  },
  {
   "cell_type": "code",
   "execution_count": 11,
   "id": "33446162",
   "metadata": {},
   "outputs": [
    {
     "data": {
      "text/plain": [
       "(2008, 6)"
      ]
     },
     "execution_count": 11,
     "metadata": {},
     "output_type": "execute_result"
    }
   ],
   "source": [
    "df.shape"
   ]
  },
  {
   "cell_type": "code",
   "execution_count": 12,
   "id": "0e7a547d",
   "metadata": {},
   "outputs": [
    {
     "data": {
      "text/html": [
       "<div>\n",
       "<style scoped>\n",
       "    .dataframe tbody tr th:only-of-type {\n",
       "        vertical-align: middle;\n",
       "    }\n",
       "\n",
       "    .dataframe tbody tr th {\n",
       "        vertical-align: top;\n",
       "    }\n",
       "\n",
       "    .dataframe thead th {\n",
       "        text-align: right;\n",
       "    }\n",
       "</style>\n",
       "<table border=\"1\" class=\"dataframe\">\n",
       "  <thead>\n",
       "    <tr style=\"text-align: right;\">\n",
       "      <th></th>\n",
       "      <th>3</th>\n",
       "      <th>3</th>\n",
       "      <th>3</th>\n",
       "      <th>3</th>\n",
       "      <th>3</th>\n",
       "      <th>3</th>\n",
       "    </tr>\n",
       "  </thead>\n",
       "  <tbody>\n",
       "    <tr>\n",
       "      <th>0</th>\n",
       "      <td>T2M</td>\n",
       "      <td>T2M</td>\n",
       "      <td>T2M</td>\n",
       "      <td>T2M</td>\n",
       "      <td>T2M</td>\n",
       "      <td>T2M</td>\n",
       "    </tr>\n",
       "    <tr>\n",
       "      <th>1</th>\n",
       "      <td>27.0</td>\n",
       "      <td>27.68</td>\n",
       "      <td>26.4</td>\n",
       "      <td>24.15</td>\n",
       "      <td>24.27</td>\n",
       "      <td>25.4</td>\n",
       "    </tr>\n",
       "    <tr>\n",
       "      <th>2</th>\n",
       "      <td>26.63</td>\n",
       "      <td>27.6</td>\n",
       "      <td>27.01</td>\n",
       "      <td>23.71</td>\n",
       "      <td>22.61</td>\n",
       "      <td>26.25</td>\n",
       "    </tr>\n",
       "    <tr>\n",
       "      <th>3</th>\n",
       "      <td>26.59</td>\n",
       "      <td>27.59</td>\n",
       "      <td>26.54</td>\n",
       "      <td>23.15</td>\n",
       "      <td>22.27</td>\n",
       "      <td>25.62</td>\n",
       "    </tr>\n",
       "    <tr>\n",
       "      <th>4</th>\n",
       "      <td>26.41</td>\n",
       "      <td>27.61</td>\n",
       "      <td>25.5</td>\n",
       "      <td>22.98</td>\n",
       "      <td>21.48</td>\n",
       "      <td>22.91</td>\n",
       "    </tr>\n",
       "    <tr>\n",
       "      <th>...</th>\n",
       "      <td>...</td>\n",
       "      <td>...</td>\n",
       "      <td>...</td>\n",
       "      <td>...</td>\n",
       "      <td>...</td>\n",
       "      <td>...</td>\n",
       "    </tr>\n",
       "    <tr>\n",
       "      <th>2003</th>\n",
       "      <td>26.95</td>\n",
       "      <td>25.1</td>\n",
       "      <td>26.43</td>\n",
       "      <td>18.72</td>\n",
       "      <td>17.84</td>\n",
       "      <td>19.55</td>\n",
       "    </tr>\n",
       "    <tr>\n",
       "      <th>2004</th>\n",
       "      <td>26.44</td>\n",
       "      <td>25.15</td>\n",
       "      <td>26.52</td>\n",
       "      <td>19.08</td>\n",
       "      <td>15.8</td>\n",
       "      <td>20.03</td>\n",
       "    </tr>\n",
       "    <tr>\n",
       "      <th>2005</th>\n",
       "      <td>26.38</td>\n",
       "      <td>25.18</td>\n",
       "      <td>26.26</td>\n",
       "      <td>18.56</td>\n",
       "      <td>15.95</td>\n",
       "      <td>20.3</td>\n",
       "    </tr>\n",
       "    <tr>\n",
       "      <th>2006</th>\n",
       "      <td>26.49</td>\n",
       "      <td>25.23</td>\n",
       "      <td>26.31</td>\n",
       "      <td>17.75</td>\n",
       "      <td>15.4</td>\n",
       "      <td>18.73</td>\n",
       "    </tr>\n",
       "    <tr>\n",
       "      <th>2007</th>\n",
       "      <td>26.83</td>\n",
       "      <td>25.09</td>\n",
       "      <td>26.7</td>\n",
       "      <td>18.73</td>\n",
       "      <td>15.94</td>\n",
       "      <td>17.87</td>\n",
       "    </tr>\n",
       "  </tbody>\n",
       "</table>\n",
       "<p>2008 rows × 6 columns</p>\n",
       "</div>"
      ],
      "text/plain": [
       "          3      3      3      3      3      3\n",
       "0       T2M    T2M    T2M    T2M    T2M    T2M\n",
       "1      27.0  27.68   26.4  24.15  24.27   25.4\n",
       "2     26.63   27.6  27.01  23.71  22.61  26.25\n",
       "3     26.59  27.59  26.54  23.15  22.27  25.62\n",
       "4     26.41  27.61   25.5  22.98  21.48  22.91\n",
       "...     ...    ...    ...    ...    ...    ...\n",
       "2003  26.95   25.1  26.43  18.72  17.84  19.55\n",
       "2004  26.44  25.15  26.52  19.08   15.8  20.03\n",
       "2005  26.38  25.18  26.26  18.56  15.95   20.3\n",
       "2006  26.49  25.23  26.31  17.75   15.4  18.73\n",
       "2007  26.83  25.09   26.7  18.73  15.94  17.87\n",
       "\n",
       "[2008 rows x 6 columns]"
      ]
     },
     "execution_count": 12,
     "metadata": {},
     "output_type": "execute_result"
    }
   ],
   "source": [
    "df.astype('float',errors='ignore')"
   ]
  },
  {
   "cell_type": "code",
   "execution_count": 13,
   "id": "74722463",
   "metadata": {},
   "outputs": [],
   "source": [
    "df.columns=[1,2,3,4,5,6]"
   ]
  },
  {
   "cell_type": "code",
   "execution_count": 14,
   "id": "f8638e8e",
   "metadata": {},
   "outputs": [],
   "source": [
    "for x in df.columns:\n",
    "    df[x]=pd.to_numeric(df[x],errors='coerce')\n",
    "    df[x].dropna(inplace=True)"
   ]
  },
  {
   "cell_type": "code",
   "execution_count": 15,
   "id": "d83b7db2",
   "metadata": {},
   "outputs": [
    {
     "name": "stdout",
     "output_type": "stream",
     "text": [
      "<class 'pandas.core.frame.DataFrame'>\n",
      "RangeIndex: 2008 entries, 0 to 2007\n",
      "Data columns (total 6 columns):\n",
      " #   Column  Non-Null Count  Dtype  \n",
      "---  ------  --------------  -----  \n",
      " 0   1       2007 non-null   float64\n",
      " 1   2       2007 non-null   float64\n",
      " 2   3       2007 non-null   float64\n",
      " 3   4       2007 non-null   float64\n",
      " 4   5       2007 non-null   float64\n",
      " 5   6       2007 non-null   float64\n",
      "dtypes: float64(6)\n",
      "memory usage: 94.2 KB\n"
     ]
    }
   ],
   "source": [
    "df.info()\n"
   ]
  },
  {
   "cell_type": "code",
   "execution_count": 16,
   "id": "059f0f25",
   "metadata": {},
   "outputs": [],
   "source": [
    "df.dropna(axis=0,inplace=True)"
   ]
  },
  {
   "cell_type": "code",
   "execution_count": 17,
   "id": "e4f2c083",
   "metadata": {},
   "outputs": [
    {
     "data": {
      "text/html": [
       "<div>\n",
       "<style scoped>\n",
       "    .dataframe tbody tr th:only-of-type {\n",
       "        vertical-align: middle;\n",
       "    }\n",
       "\n",
       "    .dataframe tbody tr th {\n",
       "        vertical-align: top;\n",
       "    }\n",
       "\n",
       "    .dataframe thead th {\n",
       "        text-align: right;\n",
       "    }\n",
       "</style>\n",
       "<table border=\"1\" class=\"dataframe\">\n",
       "  <thead>\n",
       "    <tr style=\"text-align: right;\">\n",
       "      <th></th>\n",
       "      <th>1</th>\n",
       "      <th>2</th>\n",
       "      <th>3</th>\n",
       "      <th>4</th>\n",
       "      <th>5</th>\n",
       "      <th>6</th>\n",
       "    </tr>\n",
       "  </thead>\n",
       "  <tbody>\n",
       "    <tr>\n",
       "      <th>1</th>\n",
       "      <td>27.00</td>\n",
       "      <td>27.68</td>\n",
       "      <td>26.40</td>\n",
       "      <td>24.15</td>\n",
       "      <td>24.27</td>\n",
       "      <td>25.40</td>\n",
       "    </tr>\n",
       "    <tr>\n",
       "      <th>2</th>\n",
       "      <td>26.63</td>\n",
       "      <td>27.60</td>\n",
       "      <td>27.01</td>\n",
       "      <td>23.71</td>\n",
       "      <td>22.61</td>\n",
       "      <td>26.25</td>\n",
       "    </tr>\n",
       "    <tr>\n",
       "      <th>3</th>\n",
       "      <td>26.59</td>\n",
       "      <td>27.59</td>\n",
       "      <td>26.54</td>\n",
       "      <td>23.15</td>\n",
       "      <td>22.27</td>\n",
       "      <td>25.62</td>\n",
       "    </tr>\n",
       "    <tr>\n",
       "      <th>4</th>\n",
       "      <td>26.41</td>\n",
       "      <td>27.61</td>\n",
       "      <td>25.50</td>\n",
       "      <td>22.98</td>\n",
       "      <td>21.48</td>\n",
       "      <td>22.91</td>\n",
       "    </tr>\n",
       "    <tr>\n",
       "      <th>5</th>\n",
       "      <td>25.92</td>\n",
       "      <td>27.58</td>\n",
       "      <td>25.40</td>\n",
       "      <td>22.26</td>\n",
       "      <td>21.61</td>\n",
       "      <td>22.76</td>\n",
       "    </tr>\n",
       "    <tr>\n",
       "      <th>...</th>\n",
       "      <td>...</td>\n",
       "      <td>...</td>\n",
       "      <td>...</td>\n",
       "      <td>...</td>\n",
       "      <td>...</td>\n",
       "      <td>...</td>\n",
       "    </tr>\n",
       "    <tr>\n",
       "      <th>2003</th>\n",
       "      <td>26.95</td>\n",
       "      <td>25.10</td>\n",
       "      <td>26.43</td>\n",
       "      <td>18.72</td>\n",
       "      <td>17.84</td>\n",
       "      <td>19.55</td>\n",
       "    </tr>\n",
       "    <tr>\n",
       "      <th>2004</th>\n",
       "      <td>26.44</td>\n",
       "      <td>25.15</td>\n",
       "      <td>26.52</td>\n",
       "      <td>19.08</td>\n",
       "      <td>15.80</td>\n",
       "      <td>20.03</td>\n",
       "    </tr>\n",
       "    <tr>\n",
       "      <th>2005</th>\n",
       "      <td>26.38</td>\n",
       "      <td>25.18</td>\n",
       "      <td>26.26</td>\n",
       "      <td>18.56</td>\n",
       "      <td>15.95</td>\n",
       "      <td>20.30</td>\n",
       "    </tr>\n",
       "    <tr>\n",
       "      <th>2006</th>\n",
       "      <td>26.49</td>\n",
       "      <td>25.23</td>\n",
       "      <td>26.31</td>\n",
       "      <td>17.75</td>\n",
       "      <td>15.40</td>\n",
       "      <td>18.73</td>\n",
       "    </tr>\n",
       "    <tr>\n",
       "      <th>2007</th>\n",
       "      <td>26.83</td>\n",
       "      <td>25.09</td>\n",
       "      <td>26.70</td>\n",
       "      <td>18.73</td>\n",
       "      <td>15.94</td>\n",
       "      <td>17.87</td>\n",
       "    </tr>\n",
       "  </tbody>\n",
       "</table>\n",
       "<p>2007 rows × 6 columns</p>\n",
       "</div>"
      ],
      "text/plain": [
       "          1      2      3      4      5      6\n",
       "1     27.00  27.68  26.40  24.15  24.27  25.40\n",
       "2     26.63  27.60  27.01  23.71  22.61  26.25\n",
       "3     26.59  27.59  26.54  23.15  22.27  25.62\n",
       "4     26.41  27.61  25.50  22.98  21.48  22.91\n",
       "5     25.92  27.58  25.40  22.26  21.61  22.76\n",
       "...     ...    ...    ...    ...    ...    ...\n",
       "2003  26.95  25.10  26.43  18.72  17.84  19.55\n",
       "2004  26.44  25.15  26.52  19.08  15.80  20.03\n",
       "2005  26.38  25.18  26.26  18.56  15.95  20.30\n",
       "2006  26.49  25.23  26.31  17.75  15.40  18.73\n",
       "2007  26.83  25.09  26.70  18.73  15.94  17.87\n",
       "\n",
       "[2007 rows x 6 columns]"
      ]
     },
     "execution_count": 17,
     "metadata": {},
     "output_type": "execute_result"
    }
   ],
   "source": [
    "df"
   ]
  },
  {
   "cell_type": "code",
   "execution_count": 18,
   "id": "8bbf7b5a",
   "metadata": {},
   "outputs": [],
   "source": [
    "# Check if all values in each row are strings\n",
    "string_rows = df.applymap(lambda x: isinstance(x, str)).all(axis=1)\n",
    "\n",
    "# Filter out rows with all string values\n",
    "filtered_dfw = df[~string_rows]"
   ]
  },
  {
   "cell_type": "code",
   "execution_count": 19,
   "id": "65d8ea31",
   "metadata": {},
   "outputs": [],
   "source": [
    "values=df.astype('float').mean(axis=1).reset_index()"
   ]
  },
  {
   "cell_type": "code",
   "execution_count": 20,
   "id": "3918ff43",
   "metadata": {},
   "outputs": [
    {
     "name": "stdout",
     "output_type": "stream",
     "text": [
      "<class 'pandas.core.frame.DataFrame'>\n",
      "RangeIndex: 2007 entries, 0 to 2006\n",
      "Data columns (total 2 columns):\n",
      " #   Column  Non-Null Count  Dtype  \n",
      "---  ------  --------------  -----  \n",
      " 0   index   2007 non-null   int64  \n",
      " 1   0       2007 non-null   float64\n",
      "dtypes: float64(1), int64(1)\n",
      "memory usage: 31.5 KB\n"
     ]
    }
   ],
   "source": [
    "values.info()"
   ]
  },
  {
   "cell_type": "code",
   "execution_count": 21,
   "id": "4d3f0687",
   "metadata": {},
   "outputs": [],
   "source": [
    "values.drop(columns=['index'],inplace=True)"
   ]
  },
  {
   "cell_type": "code",
   "execution_count": 22,
   "id": "a7b1f27d",
   "metadata": {},
   "outputs": [],
   "source": [
    "values=values[0]"
   ]
  },
  {
   "cell_type": "code",
   "execution_count": 23,
   "id": "83cc6d35",
   "metadata": {},
   "outputs": [
    {
     "data": {
      "text/plain": [
       "0       25.816667\n",
       "1       25.635000\n",
       "2       25.293333\n",
       "3       24.481667\n",
       "4       24.255000\n",
       "          ...    \n",
       "2002    22.431667\n",
       "2003    22.170000\n",
       "2004    22.105000\n",
       "2005    21.651667\n",
       "2006    21.860000\n",
       "Name: 0, Length: 2007, dtype: float64"
      ]
     },
     "execution_count": 23,
     "metadata": {},
     "output_type": "execute_result"
    }
   ],
   "source": [
    "values"
   ]
  },
  {
   "cell_type": "markdown",
   "id": "8b53be1b",
   "metadata": {},
   "source": [
    "plt.figure(figsize=(10, 4)) \n",
    "plt.subplot(1,2,1)\n",
    "plt.plot(values.index,values,label='Brazil average temperature from 2018 to 2023')\n",
    "t1=np.arange(0,2007)\n",
    "plt.subplot(1,2,1)\n",
    "plt.plot(t1,temp_fun_br(t1),label='fitted temperature')\n",
    "plt.legend()\n",
    "plt.show()"
   ]
  },
  {
   "cell_type": "code",
   "execution_count": 24,
   "id": "a5746839",
   "metadata": {},
   "outputs": [
    {
     "data": {
      "text/plain": [
       "24.1821142667331"
      ]
     },
     "execution_count": 24,
     "metadata": {},
     "output_type": "execute_result"
    }
   ],
   "source": [
    "values.mean()"
   ]
  },
  {
   "cell_type": "code",
   "execution_count": 25,
   "id": "240a41d1",
   "metadata": {},
   "outputs": [],
   "source": [
    "values1=temp_miami"
   ]
  },
  {
   "cell_type": "code",
   "execution_count": 26,
   "id": "d2dda99b",
   "metadata": {},
   "outputs": [],
   "source": [
    "time=np.arange(0,len(values))\n"
   ]
  },
  {
   "cell_type": "code",
   "execution_count": 27,
   "id": "d677bb73",
   "metadata": {},
   "outputs": [],
   "source": [
    "values1=pd.Series(values1)"
   ]
  },
  {
   "cell_type": "code",
   "execution_count": 28,
   "id": "3bd984bf",
   "metadata": {},
   "outputs": [
    {
     "data": {
      "text/plain": [
       "(2008,)"
      ]
     },
     "execution_count": 28,
     "metadata": {},
     "output_type": "execute_result"
    }
   ],
   "source": [
    "values1.shape"
   ]
  },
  {
   "cell_type": "code",
   "execution_count": 29,
   "id": "786ea523",
   "metadata": {},
   "outputs": [
    {
     "data": {
      "text/plain": [
       "25.906841056302937"
      ]
     },
     "execution_count": 29,
     "metadata": {},
     "output_type": "execute_result"
    }
   ],
   "source": [
    "values1.mean()"
   ]
  },
  {
   "cell_type": "code",
   "execution_count": 30,
   "id": "88a1465f",
   "metadata": {},
   "outputs": [
    {
     "data": {
      "text/plain": [
       "(28.66333333333333, 30.28)"
      ]
     },
     "execution_count": 30,
     "metadata": {},
     "output_type": "execute_result"
    }
   ],
   "source": [
    "values.max(),values1.max()"
   ]
  },
  {
   "cell_type": "code",
   "execution_count": 31,
   "id": "d22a51a2",
   "metadata": {},
   "outputs": [],
   "source": [
    "mean = np.mean(values)\n",
    "std_dev = np.std(values)\n",
    "standardized_data = (values - mean) / std_dev"
   ]
  },
  {
   "cell_type": "code",
   "execution_count": 32,
   "id": "5f1c1213",
   "metadata": {},
   "outputs": [],
   "source": [
    "mean1 = np.mean(values1)\n",
    "std_dev1 = np.std(values1)\n",
    "standardized_data1 = (values1 - mean) / std_dev1"
   ]
  },
  {
   "cell_type": "markdown",
   "id": "cd28b250",
   "metadata": {},
   "source": [
    "plt.figure(figsize=(10, 4)) \n",
    "plt.subplot(1,2,1)\n",
    "plt.plot(values1.index,values1,label='Miami average temperature from 2018 to 2023')\n",
    "t1=np.arange(0,2007)\n",
    "plt.subplot(1,2,1)\n",
    "plt.plot(t1,temp_fun_miami(t1),label='fitted temperature')\n",
    "plt.legend()\n",
    "plt.show()"
   ]
  },
  {
   "cell_type": "code",
   "execution_count": 33,
   "id": "a697feb7",
   "metadata": {},
   "outputs": [],
   "source": [
    "N=1/len(time)\n"
   ]
  },
  {
   "cell_type": "code",
   "execution_count": 34,
   "id": "2c41fccf",
   "metadata": {},
   "outputs": [],
   "source": [
    "standardized_data1=standardized_data1.dropna(axis=0)"
   ]
  },
  {
   "cell_type": "code",
   "execution_count": 35,
   "id": "1e19f9dc",
   "metadata": {},
   "outputs": [],
   "source": [
    "standardized_data=standardized_data.dropna(axis=0)"
   ]
  },
  {
   "cell_type": "code",
   "execution_count": 36,
   "id": "9d1044c7",
   "metadata": {},
   "outputs": [
    {
     "data": {
      "text/plain": [
       "1      -0.667444\n",
       "2      -1.162326\n",
       "3      -1.866847\n",
       "4      -3.866998\n",
       "5      -3.389299\n",
       "          ...   \n",
       "2003    1.573276\n",
       "2004    1.813844\n",
       "2005    1.965058\n",
       "2006    1.844774\n",
       "2007    1.824154\n",
       "Name: 3, Length: 2007, dtype: float64"
      ]
     },
     "execution_count": 36,
     "metadata": {},
     "output_type": "execute_result"
    }
   ],
   "source": [
    "standardized_data1"
   ]
  },
  {
   "cell_type": "code",
   "execution_count": 37,
   "id": "e575979c",
   "metadata": {},
   "outputs": [],
   "source": [
    "# setting Fourier Transform frequency\n",
    "freqs = 1/365"
   ]
  },
  {
   "cell_type": "code",
   "execution_count": 38,
   "id": "e53bb0d3",
   "metadata": {},
   "outputs": [],
   "source": [
    "# Perform Fourier Transform\n",
    "fft_values = fft(np.array(standardized_data))\n",
    "fft_values1 = fft(np.array(standardized_data1))\n"
   ]
  },
  {
   "cell_type": "code",
   "execution_count": 39,
   "id": "f92582c0",
   "metadata": {},
   "outputs": [],
   "source": [
    "# Define the function to fit\n",
    "def periodic_function_br(t, A,A1,phase):\n",
    "    return A +A1 * np.sin(2 * np.pi * t/365+phase)\n",
    "def periodic_function_mia(t,A, A1,phase):\n",
    "    return A+A1 * np.sin(2 * np.pi * t/365+phase)\n",
    "# Initial guess for fitting parameters\n",
    "initial_params = [8,3, 0]\n",
    "\n",
    "# Perform curve fitting\n",
    "params, params_covariance = curve_fit(periodic_function_br, time, standardized_data, p0=initial_params)\n",
    "\n",
    "# Generate fitted values\n",
    "fitted_values = periodic_function_br(time, *params)\n",
    "initial_params1 = [12,6,np.pi]\n",
    "params1, params_covariance1 = curve_fit(periodic_function_mia, time, standardized_data1, p0=initial_params1)\n",
    "\n",
    "fitted_values1 = periodic_function_mia(time, *params1)\n"
   ]
  },
  {
   "cell_type": "code",
   "execution_count": 40,
   "id": "ee3e8ee7",
   "metadata": {},
   "outputs": [],
   "source": [
    "def fitted_periodic_function(t):\n",
    "    A,A1,phase = params\n",
    "    return A+A1 * np.sin(2 * np.pi * t/365+phase )\n",
    "A0,A1,phase = params\n",
    "A01,A11,phase1 = params1\n"
   ]
  },
  {
   "cell_type": "code",
   "execution_count": 41,
   "id": "07599afd",
   "metadata": {},
   "outputs": [
    {
     "data": {
      "text/plain": [
       "(1.4243186740408076, 24.1821142667331)"
      ]
     },
     "execution_count": 41,
     "metadata": {},
     "output_type": "execute_result"
    }
   ],
   "source": [
    "#now let's destandardize:\n",
    "std_dev,mean"
   ]
  },
  {
   "cell_type": "code",
   "execution_count": 42,
   "id": "b144df19",
   "metadata": {},
   "outputs": [
    {
     "data": {
      "text/plain": [
       "(2.9097799261941413, 25.906841056302937)"
      ]
     },
     "execution_count": 42,
     "metadata": {},
     "output_type": "execute_result"
    }
   ],
   "source": [
    "std_dev1,mean1"
   ]
  },
  {
   "cell_type": "code",
   "execution_count": 43,
   "id": "33386eee",
   "metadata": {},
   "outputs": [],
   "source": [
    "def temp_fun_br(t):\n",
    "    return 1.42432*2*np.sin(2*np.pi*t/365+2.2)+24.182\n",
    "def temp_fun_mia(t):\n",
    "    return 2.91*1.25*np.sin(2*np.pi*t/365 + 3.7)+25.91"
   ]
  },
  {
   "cell_type": "code",
   "execution_count": 44,
   "id": "4b4dee5e",
   "metadata": {},
   "outputs": [],
   "source": [
    "def b_m(t,temp_fun):\n",
    "    return (0.1 - 0.005)*(temp_fun(t) - 24.5)/(28.5 - 24.5) + 0.005"
   ]
  },
  {
   "cell_type": "code",
   "execution_count": 45,
   "id": "e7631d07",
   "metadata": {},
   "outputs": [],
   "source": [
    "def B_br(t,temp_fun):\n",
    "    return 0.0943+0.0043*temp_fun(t)"
   ]
  },
  {
   "cell_type": "code",
   "execution_count": 46,
   "id": "46e5f048",
   "metadata": {},
   "outputs": [],
   "source": [
    "def B_mia(t,temp_fun):\n",
    "    return 0.01*B_br(t,temp_fun)"
   ]
  },
  {
   "cell_type": "code",
   "execution_count": 47,
   "id": "e4ffd8a7",
   "metadata": {},
   "outputs": [],
   "source": [
    "def beta_mh(t,temp_fun):\n",
    "    b = 0.13\n",
    "    return b*B_br(t,temp_fun)"
   ]
  },
  {
   "cell_type": "code",
   "execution_count": 48,
   "id": "5c3b2827",
   "metadata": {},
   "outputs": [],
   "source": [
    "def beta_hm(t,temp_fun):\n",
    "    c = 0.3\n",
    "    return c"
   ]
  },
  {
   "cell_type": "code",
   "execution_count": 49,
   "id": "c6616536",
   "metadata": {},
   "outputs": [],
   "source": [
    "def mu_m(t,temp_fun):\n",
    "    return 0.8692 - 0.1590*temp_fun(t) + 0.01116*(temp_fun(t)**2) -0.0003408*(temp_fun(t)**3)+3.809*(10**(-6))*(temp_fun(t)**4)"
   ]
  },
  {
   "cell_type": "code",
   "execution_count": 50,
   "id": "9546cfd4",
   "metadata": {},
   "outputs": [],
   "source": [
    "def eta_b(t,temp_fun):\n",
    "    return 0.0591*(-5.4 +1.8*temp_fun(t) - 0.2124*temp_fun(t)**2 + 1.015*(temp_fun(t)**3)/100 -1.515*(temp_fun(t)**4)/10000)"
   ]
  },
  {
   "cell_type": "code",
   "execution_count": 51,
   "id": "2812bf3e",
   "metadata": {},
   "outputs": [],
   "source": [
    "def mu_L(t,temp_fun):\n",
    "    return 2.130 - 0.3797*temp_fun(t) + (0.02457*temp_fun(t)**2) - (0.0006778*temp_fun(t)**3) + 0.000006794*temp_fun(t)**4\n"
   ]
  },
  {
   "cell_type": "code",
   "execution_count": 52,
   "id": "be5eecf7",
   "metadata": {},
   "outputs": [],
   "source": [
    "def eta_L(t,temp_fun):\n",
    "    return 0.00070067*(temp_fun(t)+273.15)*np.exp(13093*(1/298 - 1/(temp_fun(t)+273.15)))/(1+np.exp(28715*(1/304.6 - 1/(temp_fun(t)+273.15))))"
   ]
  },
  {
   "cell_type": "code",
   "execution_count": 53,
   "id": "e1301d60",
   "metadata": {},
   "outputs": [],
   "source": [
    "NhM=2600000*3/4\n",
    "NhB=203062512\n",
    "KB=NhB\n",
    "KM = NhM  #Carrying capacity"
   ]
  },
  {
   "cell_type": "code",
   "execution_count": 54,
   "id": "924f8385",
   "metadata": {},
   "outputs": [],
   "source": [
    "b_h = 53/(2000*365) #humans bithrate\n",
    "mu_h = 1/(78*356) #humans deathrate\n",
    "v_h = 1/4 #1/Intrinsic incubation period (in days) 3-4 days\n",
    "eta_m = 1/4 # 1/Extrinsic incubation period 2-6 days\n",
    "eta_h = 1/4 # 1/Mean viremic period (in days) 3-4 days\n",
    "    \n",
    "p = 1/5 #Vertical trasnmission probablility\n",
    "    \n",
    "aBM = -np.log(1-(800000/365)/203062512) #travel rate\n",
    "aMB = -np.log(1-(800000/365)/6140000) #travel rate"
   ]
  },
  {
   "cell_type": "code",
   "execution_count": 55,
   "id": "5db0c714",
   "metadata": {},
   "outputs": [],
   "source": [
    "def Sm_DFE_Miami(t):\n",
    "    return (eta_b(t,temp_fun_mia)*eta_L(t,temp_fun_mia)-(eta_L(t,temp_fun_mia)+mu_L(t,temp_fun_mia))*mu_m(t,temp_fun_mia))*KM/(eta_b(t,temp_fun_mia)*mu_m(t,temp_fun_mia))\n",
    "def Sm_DFE_Brasil(t):\n",
    "    return (eta_b(t,temp_fun_br)*eta_L(t,temp_fun_br)-(eta_L(t,temp_fun_br)+mu_L(t,temp_fun_br))*mu_m(t,temp_fun_br))*KB/(eta_b(t,temp_fun_br)*mu_m(t,temp_fun_br))"
   ]
  },
  {
   "cell_type": "code",
   "execution_count": 56,
   "id": "3b5f98e2",
   "metadata": {},
   "outputs": [],
   "source": [
    "def R_0(t,Sh_DFE,Sm_DFE,Nh,temp_fun):\n",
    "    F=[[0,0,0,0,B_br(t,temp_fun)*beta_mh(t,temp_fun)*Sh_DFE/Nh],[0,0,0,0,0],[0,0,0,0,eta_b(t,temp_fun)*p],[0,B_br(t,temp_fun)*beta_hm(t,temp_fun)*Sm_DFE/Nh,0,0,0],[0,0,0,0,0]]\n",
    "    V=[[v_h+mu_h,0,0,0,0],[-v_h,eta_h+mu_h,0,0,0],[0,0,eta_L(t,temp_fun)+mu_L(t,temp_fun),0,0],[0,0,0,eta_m+mu_m(t,temp_fun),0],[0,0,-eta_L(t,temp_fun),-eta_m,mu_m(t,temp_fun)]]\n",
    "    Inv_V=np.linalg.inv(V)\n",
    "    eigenvalues=[np.abs(x) for x in np.linalg.eigvals(np.matmul(F, Inv_V))]\n",
    "    return np.max(eigenvalues)\n",
    "#x is either aBM-if we're calculating R_0 for MIA- or aMB if calculating R_0 for BRA"
   ]
  },
  {
   "cell_type": "code",
   "execution_count": 57,
   "id": "3bab0749",
   "metadata": {},
   "outputs": [],
   "source": [
    "time=np.arange(0,547,1)"
   ]
  },
  {
   "cell_type": "code",
   "execution_count": 58,
   "id": "12fad90c",
   "metadata": {},
   "outputs": [],
   "source": [
    "t=time"
   ]
  },
  {
   "cell_type": "code",
   "execution_count": 59,
   "id": "b21136c3",
   "metadata": {},
   "outputs": [],
   "source": [
    "#Miami number of susceptible people at DFE\n",
    "Sh_DFE_Miami = NhM"
   ]
  },
  {
   "cell_type": "code",
   "execution_count": 60,
   "id": "5e2eeab4",
   "metadata": {},
   "outputs": [],
   "source": [
    "#Brasil number of susceptible people at DFE\n",
    "Sh_DFE_Brasil=NhB"
   ]
  },
  {
   "cell_type": "code",
   "execution_count": 61,
   "id": "95433af2",
   "metadata": {},
   "outputs": [
    {
     "data": {
      "image/png": "[encoded data removed]",
      "text/plain": [
       "<Figure size 640x480 with 1 Axes>"
      ]
     },
     "metadata": {},
     "output_type": "display_data"
    }
   ],
   "source": [
    "#plt.plot(t,[R_0(t[x],Sh_DFE_Miami,Sm_DFE_Miami(t[x]),NhM,aBM,temp_fun_miami) for x in range(len(t))],label='R_0 Miami',color='purple')\n",
    "#plt.figsize(10,10)\n",
    "plt.plot(t,[R_0(t[x],Sh_DFE_Brasil,Sm_DFE_Brasil(t[x]),NhB,temp_fun_br) for x in range(len(t))],label='R_0 Brasil',color='blue')\n",
    "plt.plot(t,[R_0(t[x],Sh_DFE_Miami,Sm_DFE_Miami(t[x]),NhB,temp_fun_mia) for x in range(len(t))],label='R_0 Miami',color='yellow')\n",
    "\n",
    "plt.legend()\n",
    "plt.title('Basic Reproduction Number from Jan 2022 to Jun 2023')\n",
    "plt.xlabel('Days')\n",
    "plt.ylabel('R_0')\n",
    "plt.show()"
   ]
  },
  {
   "cell_type": "code",
   "execution_count": 62,
   "id": "f7be1f0b",
   "metadata": {},
   "outputs": [],
   "source": [
    "Sh_DFE_Miami_Global=(mu_h*NhM +aBM*mu_h*NhB/(mu_h+aBM))/(mu_h+aMB - aBM*aMB/(mu_h+aBM))\n",
    "Sh_DFE_Brasil_Global=(mu_h*NhB+aMB*Sh_DFE_Miami)/(mu_h+aBM)"
   ]
  },
  {
   "cell_type": "code",
   "execution_count": 63,
   "id": "22ad0187",
   "metadata": {},
   "outputs": [],
   "source": [
    "def Sm_DFE_Miami_Global(t,temp_fun):\n",
    "    return eta_b(t,temp_fun_mia)/((eta_L(t,temp_fun_mia)+mu_L(t,temp_fun_mia))*mu_m(t,temp_fun_mia)/eta_L(t,temp_fun_mia) + eta_b(t,temp_fun_mia)*mu_m(t,temp_fun_mia)/(eta_L(t,temp_fun_mia)*KM))\n",
    "def Sm_DFE_Brasil_Global(t,temp_fun):\n",
    "    return eta_b(t,temp_fun_br)/((eta_L(t,temp_fun_br)+mu_L(t,temp_fun_br))*mu_m(t,temp_fun_br)/eta_L(t,temp_fun_br) + eta_b(t,temp_fun_br)*mu_m(t,temp_fun_br)/(eta_L(t,temp_fun_br)*KB))"
   ]
  },
  {
   "cell_type": "code",
   "execution_count": 64,
   "id": "124b443f",
   "metadata": {},
   "outputs": [],
   "source": [
    "def LS_DFE_Miami_Global(t,temp_fun):\n",
    "    return mu_m(t,temp_fun_mia)*Sm_DFE_Miami_Global(t,temp_fun)/eta_L(t,temp_fun_mia)\n",
    "def LS_DFE_Brasil_Global(t,temp_fun):\n",
    "    return mu_m(t,temp_fun_br)*Sm_DFE_Brasil_Global(t,temp_fun)/eta_L(t,temp_fun_br)"
   ]
  },
  {
   "cell_type": "code",
   "execution_count": 65,
   "id": "98497117",
   "metadata": {},
   "outputs": [],
   "source": [
    "def R_0_Global(t,temp_fun1,temp_fun2):\n",
    "    V=[[v_h+mu_h+aMB,0,0,0,0,0,-aBM,0,0,0,0,0],[(a-1)*v_h,eta_h+mu_h,0,0,0,0,0,0,0,0,0,0],[-a*v_h,0,eta_h+mu_h+aMB,0,0,0,0,0,-aBM,0,0,0],[0,0,0,eta_m+mu_m(t,temp_fun1),0,0,0,0,0,0,0,0],[0,0,0,-eta_m,mu_m(t,temp_fun1),-eta_L(t,temp_fun1),0,0,0,0,0,0],[0,0,0,0,0,eta_L(t,temp_fun1)+mu_L(t,temp_fun1),0,0,0,0,0,0],[-aMB,0,0,0,0,0,v_h+mu_h+aBM,0,0,0,0,0],[0,0,0,0,0,0,(a-1)*v_h,eta_h+mu_h,0,0,0,0],[0,0,-aMB,0,0,0,-a*v_h,0,eta_h+mu_h+aBM,0,0,0],[0,0,0,0,0,0,0,0,0,eta_m+mu_m(t,temp_fun2),0,0],[0,0,0,0,0,0,0,0,0,-eta_m,mu_m(t,temp_fun2),-eta_L(t,temp_fun2)],[0,0,0,0,0,0,0,0,0,0,0,eta_L(t,temp_fun2)+mu_L(t,temp_fun2)]]\n",
    "    F=[[0,0,0,0,b_m(t,temp_fun1)*beta_mh(t,temp_fun1)*Sh_DFE_Miami_Global/NhM,0,0,0,0,0,0,0],[0,0,0,0,0,0,0,0,0,0,0,0],[0,0,0,0,0,0,0,0,0,0,0,0,],[0,b_m(t,temp_fun1)*beta_hm(t,temp_fun1)*Sh_DFE_Miami_Global/NhM,b_m(t,temp_fun1)*beta_hm(t,temp_fun1)*Sh_DFE_Miami_Global/NhM,0,0,0,0,0,0,0,0,0],[0,0,0,0,0,0,0,0,0,0,0,0],[0,0,0,0,p*eta_b(t,temp_fun1)*(1-LS_DFE_Miami_Global(t,temp_fun1)/KM),0,0,0,0,0,0,0],[0,0,0,0,0,0,0,0,0,0,b_m(t,temp_fun2)*beta_mh(t,temp_fun2)*Sh_DFE_Brasil_Global/NhB,0],[0,0,0,0,0,0,0,0,0,0,0,0],[0,0,0,0,0,0,0,0,0,0,0,0],[0,0,0,0,0,0,0,b_m(t,temp_fun2)*beta_hm(t,temp_fun2)*Sh_DFE_Brasil_Global/NhB,b_m(t,temp_fun2)*beta_hm(t,temp_fun2)*Sh_DFE_Brasil_Global/NhB,0,0,0],[0,0,0,0,0,0,0,0,0,0,0,0],[0,0,0,0,0,0,0,0,0,0,p*eta_b(t,temp_fun2)*(1-LS_DFE_Brasil_Global(t,temp_fun2)/KB),0]]\n",
    "    Inv_V=np.linalg.inv(V)\n",
    "    eigenvalues=[np.abs(x) for x in np.linalg.eigvals(np.matmul(F, Inv_V))]\n",
    "    return np.max(eigenvalues)"
   ]
  },
  {
   "cell_type": "code",
   "execution_count": 66,
   "id": "ca090f05",
   "metadata": {},
   "outputs": [],
   "source": [
    "#asymptomatic people proportion: \n",
    "a=.4"
   ]
  },
  {
   "cell_type": "code",
   "execution_count": 67,
   "id": "c55329a1",
   "metadata": {},
   "outputs": [
    {
     "data": {
      "text/plain": [
       "[<matplotlib.lines.Line2D at 0x7f9dab95a3b0>]"
      ]
     },
     "execution_count": 67,
     "metadata": {},
     "output_type": "execute_result"
    },
    {
     "data": {
      "image/png": "[encoded data removed]",
      "text/plain": [
       "<Figure size 640x480 with 1 Axes>"
      ]
     },
     "metadata": {},
     "output_type": "display_data"
    }
   ],
   "source": [
    "plt.plot(t,[R_0_Global(t,temp_fun_mia,temp_fun_br) for t in time],label='R_0 Brasil',color='blue')"
   ]
  },
  {
   "cell_type": "code",
   "execution_count": null,
   "id": "0c1ee33f",
   "metadata": {},
   "outputs": [],
   "source": []
  }
 ],
 "metadata": {
  "kernelspec": {
   "display_name": "Python 3 (ipykernel)",
   "language": "python",
   "name": "python3"
  },
  "language_info": {
   "codemirror_mode": {
    "name": "ipython",
    "version": 3
   },
   "file_extension": ".py",
   "mimetype": "text/x-python",
   "name": "python",
   "nbconvert_exporter": "python",
   "pygments_lexer": "ipython3",
   "version": "3.10.9"
  }
 },
 "nbformat": 4,
 "nbformat_minor": 5
}
